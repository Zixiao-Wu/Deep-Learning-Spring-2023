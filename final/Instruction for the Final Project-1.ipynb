{
 "cells": [
  {
   "cell_type": "markdown",
   "metadata": {
    "id": "3xtonL9K2LiP"
   },
   "source": [
    "# **DAT565-Deep Learning for Prediction of Business Outcomes**"
   ]
  },
  {
   "cell_type": "markdown",
   "metadata": {
    "id": "_P2MRM_PB13Z"
   },
   "source": [
    "<div class=\"LI-profile-badge\"  data-version=\"v1\" data-size=\"large\" data-locale=\"en_US\" data-type=\"horizontal\" data-theme=\"light\" data-vanity=\"drsalihtutun\"><a class=\"LI-simple-link\" href='https://www.linkedin.com/in/drsalihtutun/en-us?trk=profile-badge'>Salih Tutun, PhD</a></div>"
   ]
  },
  {
   "cell_type": "markdown",
   "metadata": {
    "id": "Tw0OT6CT4mxp"
   },
   "source": [
    "![Imgur](https://i.imgur.com/r1U9dHD.png) \n"
   ]
  },
  {
   "cell_type": "markdown",
   "metadata": {
    "id": "TwROIiGmLmy-"
   },
   "source": [
    "**Note:**\n",
    "Nowadays, 85% of projects fail in real life (by Pactera Technologies) because of useless production, poor team management, poor scope, and unclear success criteria. So what should data science projects look like?\n"
   ]
  },
  {
   "cell_type": "markdown",
   "metadata": {
    "id": "456cVMnxOOgy"
   },
   "source": [
    "![Imgur](https://i.imgur.com/ZyBGLcU.png)\n",
    "\n",
    "**Credit:** By UPSIDE"
   ]
  },
  {
   "cell_type": "markdown",
   "metadata": {
    "id": "JPvGOxWviF7L"
   },
   "source": [
    "In our project, we need to make sure that our idea is good and effective for earning money in business. **Please imagine that you have startup company and you would like to sell your idea to venture**. Based on this knowledge, you need to present and convince us about your idea. You can see how to prepare it by looking **the Final Project Example under the Canvas.** We will assing TA for each group and you will work together. Please make sure that you contact with your TA. In the grading, After the TA grade your project, I will grade it as well. "
   ]
  },
  {
   "cell_type": "markdown",
   "metadata": {
    "id": "9Gx1qcv1iQlJ"
   },
   "source": [
    "Tips: While building the model, please consider the below concepts..."
   ]
  },
  {
   "cell_type": "markdown",
   "metadata": {
    "id": "2WAUx3zXiJrg"
   },
   "source": [
    "![Imgur](https://i.imgur.com/u8F9DGI.jpg) "
   ]
  },
  {
   "cell_type": "markdown",
   "metadata": {
    "id": "3eKx028nQhhD"
   },
   "source": [
    "### **Instructions for Final Project**\n"
   ]
  },
  {
   "cell_type": "markdown",
   "metadata": {
    "id": "3FMJulSmcSYH"
   },
   "source": [
    "The final project is the most important \"group assignment\". The goal is to apply deep learning on the selected data for solving business problems and present the findings in a nice report by the end of the course. Inj this way, we would like to understand how you find the topic, use the methods, explain the results. There's no limit on what deep learning model you should use, as long as you draw business insights, or build models to facilitate business-related decisions. In this final project, we encourage you to be creative and make bold attempts, following some guidelines mentioned in the following text chunks. \n",
    "\n",
    "Please make sure for three issues:\n",
    "1. The dataset must be business-related topic, and you need to explain your problem as business problem.\n",
    "Business related problem: It means that you need to imagine we are inverstors and you are the start up company. You have idea to solve the problem you decide, and you would like to get the money from the investors. The question is that how to convince the inverstor for getting the money for earning more money together with your project idea. As long as you can convince, your idea is business related problem.\n",
    "2. You can find your dataset by using google datasets search (https://datasetsearch.research.google.com/) or other public-access datasets.\n",
    "3. You can also use the openpsychometrics website if you would liek to psychology related projects. (https://openpsychometrics.org/_rawdata/) \n",
    "\n",
    "3. You need to use Tensorflow-Keras framework for coding the project.\n",
    "\n",
    "You can see more detail below. "
   ]
  },
  {
   "cell_type": "markdown",
   "metadata": {
    "id": "sEdAqzAbQ36V"
   },
   "source": [
    "### **Description and Guidelines**"
   ]
  },
  {
   "cell_type": "markdown",
   "metadata": {
    "id": "AkVLFPe-RBWQ"
   },
   "source": [
    "- Students choose a project related to **their research interests and business-related topic**. The project includes the following steps: \n",
    "\n",
    "    - **Establish a research topic of your interest**\n",
    "        - In this course, you've learned deep learning tools that you can use to draw insights from topics such as image recognition, text analysis, generative modelling, self-supervised learning, etc. Besides those topics, you can also find other topics from the text book, from the internet as well.\n",
    "       - Each project group needs to discuss their ideas on Canvas (in the discussion section). \n",
    "       - Please make sure that you (as four or five people) discuss the project in the final project group discussion. \n",
    "\n",
    "    - **Select dataset**\n",
    "        -  The dataset must be business-related dataset (from google datasets (https://datasetsearch.research.google.com/) or other public-access datasets) or (https://openpsychometrics.org/_rawdata/)\n",
    "    - **Proposal**\n",
    "        - Write a proposal presenting-explaining-describing the data, the problem, and the objective of the research (one page limit)\n",
    "    - **Data preprocessing**\n",
    "        - Please explain how to prepare your dataset before the analysis \n",
    "    - **Select a deep learning model to implement**\n",
    "        - During this course, we will discuss different techniques of Deep Learning (CNNs, RNNs, VAEs, etc.). You can select them and use for your problem (please make sure that you use multiple (at least two) approaches (DNN, RNN, VAE, Glove, etc.) and show the progressing.\n",
    "        - Students are allowed to use Colab, Cloud computing platforms, Kaggle, Gradient, or other Notebook services to perform the analysis. Just make sure that you share the file with us as .ipynb format.\n",
    "        - Students are allowed to use ***Tensorflow-Keras framework*** for coding the project. Please make sure that you are using Keras!!! For other frameworks, please contact me for it.\n",
    "    - **Build, Train, Evaluate, Optimize**\n",
    "        - Please explain how to divide your dataset, and how to build, optimize and evaluate your model.\n",
    "    - **Report**\n",
    "        - The report should be written in the WORD. \n",
    "        - In the report, each project group needs to write the project group number (e.g., the Final Project Group 1 based on the Canvas). \n",
    "        - The completed report should include all sections for complete credits (it should be at least 5 pages with font 11, times new roman, single-spaced with word: title, name, department, abstract, introduction, review of literature, problem description, model description, data and experimental results, conclusion, and references. \n",
    "        - You will present your project as a presentation (in the lab 6). \n",
    "        - You can see the example of the final project with Video Instructions on Canvas. I will share it on the canvas as an announcement. \n",
    "    - **Presentation**\n",
    "        - You need to present your proposal and we will discuss in the lab 6.  \n",
    "\n",
    "<br>\n"
   ]
  },
  {
   "cell_type": "markdown",
   "metadata": {
    "id": "4ufCjzRpSbIQ"
   },
   "source": [
    "### **Some Ideas/Topics for Final Project**\n",
    "\n",
    "Below is a list of project topics. This isn't a list that you have to pick from; in fact, you'll get a higher grade if you come up with something else. Instead, consider the list as a tool for generating ideas. The most importing issue is that you need to work with your TA and me for deciding the topic. **Please make sure that your topic is business related topic.** \n",
    "1. Insurance Credit Score Detection\n",
    "2. Deep Fake Analysis for Business Applications\n",
    "3. Fraud Detection by using Deep Learning approaches\n",
    "4. Using Transformers for Developing Chatbots of Business\n",
    "5. Sentiment Analysis for Business Applications\n",
    "\n",
    "So, we can discuss and decide the ideas together as well. \n"
   ]
  },
  {
   "cell_type": "markdown",
   "metadata": {
    "id": "GtC-h13PT-Nt"
   },
   "source": [
    "### **Project Proposal**"
   ]
  },
  {
   "cell_type": "markdown",
   "metadata": {
    "id": "2GTSGQ_cUANF"
   },
   "source": [
    "Your group should HAND IN ONE PROJECT PROPOSAL (with all group members' names, the final project group number, and group leaders on it) by the proposal due date. The proposal should be about one page, describing what you plan to do. Be as specific as possible, describing what question(s) you want to investigate and generally how you plan to obtain data. The instructor and TAs will return the proposals to you with comments. The more detailed your proposal, the better feedback you get! Your proposal should address the following questions:\n",
    "- What is the project topic?\n",
    "- What are the main issues or problems you plan to address?\n",
    "- What are your plans for obtaining background information (if needed) about your project?\n",
    "- Describe the data that you plan on using or collecting, including the variables measured. You don't have to give a detailed version of your data collection design.\n",
    "- What questions and/or concerns do you have about your project?\n",
    "- Please make sure that you have business related topics (explained at the beginning)\n",
    "\n",
    "Finally, it is 5 points for the grading, and the proposal exists primarily for you to get feedback on your project idea. For each group, TAs will be assigned, and they will follow your progress and report to the instructor. Please contact your TA based on the shared TAs list on the Canvas. "
   ]
  },
  {
   "cell_type": "markdown",
   "metadata": {
    "id": "s0FZDnffUU1D"
   },
   "source": [
    "### **Project Credit**"
   ]
  },
  {
   "cell_type": "markdown",
   "metadata": {
    "id": "s9H228L5UbOh"
   },
   "source": [
    "1. All students are required to turn in a project group between one and four students and we will grade based on your effort as well. \n",
    "2. Each team needs to discuss their progress in the discussion module on Canvas.  \n",
    "3. Each team must submit a project report, and a short presentation video link of their projects for 15 minutes. \n",
    "4. Each project group will record the video (in Zoom), and they will explain the report and what contribution they add individually. \n",
    "5. Each project team needs to submit the report and the video recording link (based on the Zoom). \n",
    "6. You need to add your proposal on Canvas (the Final Project Discussion) (**Note**: You need to submit it for group discussion as a group). "
   ]
  },
  {
   "cell_type": "markdown",
   "metadata": {
    "id": "_9aMunHlQkez"
   },
   "source": [
    "### **Due Dates**\n",
    "\n",
    "Please follow the due dates we shared with you on the system. Note: After submitting the due date, the project will be in the system for two days (for late submission), then it will not be accepted!"
   ]
  },
  {
   "cell_type": "markdown",
   "metadata": {
    "id": "tt25TlZ8U7tD"
   },
   "source": [
    "### **Deliverables**\n",
    "- Project proposal \n",
    "- The final report \n",
    "- The codes you worked on it (please explain there how to solve the problem as well)\n",
    "- Presentation video Zoom recording link (you will share the recording link in the final report)\n",
    "- You can share all file as zip file. \n"
   ]
  },
  {
   "cell_type": "markdown",
   "metadata": {
    "id": "wnZEESz1VTHr"
   },
   "source": [
    "### **Detailed Student Assessment**\n",
    "\n",
    "**Note: we will grade based on the word, Colab, and video presentaion/in-person presntation.** \n",
    "1. Title, name, department, project group number (**2 points possible**)\n",
    "  - You need to write your title, name, department, and project group number. Please decide the effective title for your projects. \n",
    "  \n",
    "    - Effective title, and your names (**1** point) \n",
    "        - If the title is not effective, we will give **0.5**\n",
    "    - Department and project group number (**1** point) \n",
    "        - If you did not write the group number and department, we will give **0** point\n",
    "    \n",
    "2. Abstract (**3 points possible**)\n",
    "  - You need to mention (briefly) why this problem is important, which techniques are you using, what’s the result, and the conclusion.\n",
    "  \n",
    "    - Explain why it is important (**1** point) \n",
    "        - If the explaination is weak, we will give **0.5**\n",
    "    - Explain which techniques are you using (**1** point) \n",
    "        - If you just use a simple technique, we will give **0.5**\n",
    "        - A simple technique means that you just use one simple supervised model\n",
    "    - What is your results and the conclusion (**1** point) \n",
    "        - If you did not explain results and conclusion, we will give **0.5**\n",
    "    \n",
    "3. Introduction (**5 points possible**)\n",
    "  - Students need to focus and mention why they choose their problems, why solution is important, and what you will do in all your reports (briefly). Students need to mention that how can we use the idea in the business, and what is the contribution. \n",
    "  \n",
    "    - Catch our attention with the idea (**1** point) \n",
    "        - If the idea is not interesting, we will give **0.5**\n",
    "    - Give a short background on your topic (**1** point) \n",
    "        - If the short background is not effective, we will give **0.5**\n",
    "    - Present the problem and your solution are important for the investment (**1** point)\n",
    "        - If you dont state your problem and solution logically, we will give **0.5**\n",
    "    - Explain why this project is important in the business (**1** point) \n",
    "        - If it is not important enough in business, we will give **0.5**\n",
    "    - What is the contribution at the end (**1** point) \n",
    "        - If the contribution is not enough, we will give **0.5**\n",
    "\n",
    "4. Review of the literature (**10 points Possible**)\n",
    "  - Students need to find related papers (it could be around three papers), news, projects to show how the researchers work on this topic. You can mention the researches about your idea and the methods you used.\n",
    "  \n",
    "    - Please explain at least three resources (could be more) for supporting  your idea (**3** points) \n",
    "        - For each resource, we will give **1** point\n",
    "    - Explain how previous researchers solved similar problems (**3** points) \n",
    "        - For each resource explanation, we will give **1** point\n",
    "    - Explain what is the challenge previous researchers did not focus on (**4** points) \n",
    "        - How your approach is unique there... \n",
    "\n",
    "        \n",
    "5. Problem description (**10 points Possible**)\n",
    "  - Students need to describe the problem of their choices after explaining the literature review. \n",
    "    - Explain the problem in detail (**4** points) \n",
    "        - If you did not explain the problem clearly, we will give **1**, otherwise, give **2** point\n",
    "        - If the problem is simple, give **0.5**, otherwise, we will give **1** point\n",
    "        - If you did not explain the gap in the problem, we will give **0.5**, otherwise, give **1** point\n",
    "    - Why your method is better than their approach (based on the literature) (**3** points)\n",
    "        - If the result is not logical, we will give **2** points\n",
    "    - How you will solve it step by step (**3** points)\n",
    "        - If you did not explain how to solve the problem clearly and step by step, we will give **2** points\n",
    "        \n",
    "6. Model description (**15 Points Possible**)\n",
    "  - Students need to explain which methods they are using to solve the problem step by step.\n",
    "    - Which methods you will use for solving the problem (**7** points)\n",
    "        - If you did not focus on self-supervised learning or use only one model for the problem, deduct **2** points (Just using one simple supervised model is not enough but if they used self supervised learning and make it as anomaly detection or pretraining model, we will give **5** points) \n",
    "        - We would like to see how to improve the results here... After combining different approaches, did you see any improvement?\n",
    "    - Explain why did you use the method(s) (**5** points)\n",
    "        - If the answer is not logical, we will give **2** points \n",
    "    - Explain the method(s) you used in detail (e.g. explain GANs and CNNs and how to combine the methods and improve the model)(**3** points)\n",
    "        - For the explanation of each method, we will give **1** point. \n",
    "        - If you explain how to combine multiple models, or go deep into one model, we will give **1** point (**1** point available)\n",
    "    - The drawback of your model, or briefly talk about how would you improve your model in the future(**5** points)\n",
    "        - If the answers are not logical, we will give **2** points\n",
    "        \n",
    "7. Data and experimental results (**30 Points Possible**)\n",
    "  - Students need to explain how to collect, generate, or find the dataset about the problem. Afterward, they need to show the results for solving the problem.\n",
    "  \n",
    "    - How to collect or find the dataset and data processing (**5** points)\n",
    "        - If the dataset is very simple, and students did not work on the data processing based on the Colab file, we will give **3** points\n",
    "        - If you explain the dataset and worked on the data preprocessing, we will give **4** points\n",
    "        - If you generate a new dataset (for solving the problem) and worked on the data preprocessing, we will give **5** points\n",
    "    - Show your best results (**5** points)\n",
    "        - If you organize the results and show good results, we will give **5** points\n",
    "        - If you show the simple results, give **4** points\n",
    "        - If the results are not correct (or don't make sense), we will give **3** points\n",
    "    - Explain how to optimize the parameters (**5** points)\n",
    "        - If you explain how to optimize(tune) the parameters in three steps (by showing at least three cases), and explain it in detail, we will give **5** points\n",
    "        - If you show two cases and explain in detail, we will give **4** points\n",
    "        - If you just explain it, we will give **3** points\n",
    "    - Following the tuning of parameters, explain how such tuning improve/change your training result (**10** points)\n",
    "        - If you explain how to improve the results and found good final results, give **10** points.\n",
    "        - If you did not find good results at the end but explain the process, we will give **6** points.\n",
    "    - How to save the model and explain how to use it in the business (**5** points)\n",
    "        - If you showed how they saved the model and explain how to use it in the business model, give **5** points\n",
    "        - If you just show the saved model, we will give **4** points\n",
    "        - If you just explain it, we will give **3** points\n",
    "    \n",
    "\n",
    "8. Conclusions, Discussions, and Recommendations (**10 Points Possible**) **Based on the all project ranking**\n",
    "  - Students need to interpret the results and discuss how to solve the problem with the recommended best model...\n",
    "  \n",
    "    - Please discuss your results and interpret them for your problem (**6** points)\n",
    "        - If you interpret the results well, and show how to solve the business problem, we will give **6** points\n",
    "        - If you just briefly interpret or the result is not enough to solve the problem, we will give **4** points\n",
    "        - In this part, **we will look all projects and rank them...** Based on the top project, we will 6 points and 4 points there. For this reason, please make sure that you are in the competition and show how your project is great. \n",
    "   \n",
    "    - For TAs: Based on the contributions they described, do you believe that this project is one of the best projects? Please grade based on their effort, results, usage in the business (note: you can give between **1** point to **4** points)\n",
    "    \n",
    "9. Video Presentation / In-Person Presentation (**5 Points Possible**)\n",
    "  - Students will present their proposal in 5 mins and we will discuss in the lab **or** you need to record a video about their project. Students will use Zoom cloud recording with group members, and they will record the video around for 15 minutes. Afterward, they will share the link to the final project report.\n",
    "    \n",
    "    -  Please make sure that you are sharing your zoom video link or presented in the lab\n",
    "        - If you shared the video link and all group members joined the meeting and explain their part in the project or joined the in-person presentation, please give **1** point \n",
    "    - Explain how to solve the problem in the video\n",
    "        - If you explain how to solve the problem and if they solve it, we will give **1** point\n",
    "    - Explain what is the contribution of each group member\n",
    "        - If you explain what is the contribution of each group member, we will give **2** points. (If they explain member contribution in other places (i.e. in `.ipynb` file, or in report), we will give **2** points as well)\n",
    "    - Explain why the project is effective for solving the problem\n",
    "        - If you explain why the project is effective for solving the business problem, we will give **1** point\n",
    "        - If the project is not effective, we will give **0.5** \n",
    "        \n",
    "10. Organizing the project based on the video (**5 Points Possible**)\n",
    "  \n",
    "    - Consistency: Did they answer their question of interest? (**1** point)\n",
    "        - If you explain the all problem well, we will give **1** point\n",
    "        - If you did not it well, give **0.5**\n",
    "    - Clarity: Is it easy for your reader to understand what you did and the arguments you made? (**1** point)\n",
    "        - If it is easy to understand the report, we will give **1** point\n",
    "        - Otherwise, please give **0.5** \n",
    "    - Relevancy: Did you use deep learning techniques wisely to address your question? (**1** point)\n",
    "        - If you used the deep learning model for their problem, we will give **1** point\n",
    "        - Otherwise, give **0.5**\n",
    "    - Interest: Did you tackle a challenging, interesting problem (good), or did you just use a simple example (bad). (**2** points)\n",
    "        - If they decide the very good problem for the business-related, we will give **2** points\n",
    "        - If it is not good enough for selecting the problem, we will give **1** point\n",
    "    \n",
    "11. Project proposal (**5 Points Possible**)\n",
    "\n",
    "For seeing more detail rubrics for the final project, we will share the student assesment file as well. \n",
    "\n",
    "So, the project will be 95 points and the proposal will be 5 points. Totally, we will have 100 points as the final project. \n",
    "\n",
    "**Note: If the project is submitted late, we will reduce 10 percent of all grades.**\n",
    "If students submit the project before the due date and resubmitted it as late submission, they need to contact me and explain the situation to me. \n",
    "\n",
    "Thank you very much for your consideration and progress in advance.\n"
   ]
  },
  {
   "cell_type": "markdown",
   "metadata": {
    "id": "PzSlF0k1V0q9"
   },
   "source": [
    "If you have any questions, please join the below meetings. Please do not hesitate to contact with me and TAs.\n",
    "\n",
    "Salih Tutun, PhD"
   ]
  }
 ],
 "metadata": {
  "accelerator": "GPU",
  "colab": {
   "collapsed_sections": [],
   "name": "Instruction for Final Project.ipynb",
   "private_outputs": true,
   "provenance": []
  },
  "kernelspec": {
   "display_name": "Python 3",
   "language": "python",
   "name": "python3"
  },
  "language_info": {
   "codemirror_mode": {
    "name": "ipython",
    "version": 3
   },
   "file_extension": ".py",
   "mimetype": "text/x-python",
   "name": "python",
   "nbconvert_exporter": "python",
   "pygments_lexer": "ipython3",
   "version": "3.8.3"
  }
 },
 "nbformat": 4,
 "nbformat_minor": 1
}

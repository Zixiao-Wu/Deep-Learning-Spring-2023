{
  "nbformat": 4,
  "nbformat_minor": 0,
  "metadata": {
    "accelerator": "TPU",
    "colab": {
      "provenance": []
    },
    "kernelspec": {
      "display_name": "Python 3",
      "name": "python3"
    }
  },
  "cells": [
    {
      "cell_type": "markdown",
      "metadata": {
        "id": "wL4f5fStVTyI"
      },
      "source": [
        "![Imgur](https://i.imgur.com/4HJknC2.png)"
      ]
    },
    {
      "cell_type": "markdown",
      "metadata": {
        "id": "nhS3PSE1RSUb"
      },
      "source": [
        "#### Tip: You are suggested to use GPU/TPU for this assignment"
      ]
    },
    {
      "cell_type": "markdown",
      "metadata": {
        "id": "ZB1JRgdF2Een"
      },
      "source": [
        "# Kindle Book Rating Prediction for Discovering Hidden Gems\n",
        "## Business Problem\n",
        "\n",
        "Unlike the clothing company scenario in the group assignment, rating prediction for kindle eBooks is more vital to Amazon's business decisions.  \n",
        "  \n",
        "For example, by quatifying people's discussion on books that have yet to be published electronically and books that Amazon don't have rights to sell currently, Amazon could discover \"hidden gems\" and establish contracts with the authors to secure exclusive electronic publication rights (that is: electronic version of the book can be sold only on Amazon eBook platform). In this case, Kindle would have a competitive advantage over its competitors dsince Kindle would have better content."
      ]
    },
    {
      "cell_type": "markdown",
      "metadata": {
        "id": "ey5L-Eq8IxEv"
      },
      "source": [
        "![Imgur](https://i.imgur.com/iOjMFIn.png?1)\n",
        "\n",
        "Credit by Good Reader"
      ]
    },
    {
      "cell_type": "markdown",
      "metadata": {
        "id": "-wOYy1MF1Ipw"
      },
      "source": [
        "### Task \n",
        "For this assignment, you are required to create a rating prediction model based on kindle ebook customer reviews posted on Amazon eBook platform."
      ]
    },
    {
      "cell_type": "markdown",
      "metadata": {
        "id": "dB31RSKRRRXT"
      },
      "source": [
        "### File Preparation:\n",
        "\n",
        "Read the data into a dataframe. **Reviews with no rating and ratings with no review text should be excluded from the dataframe.**\n",
        "\n",
        "**TIPS:**  \n",
        "The columns you would use are the overall rating column and review text column"
      ]
    },
    {
      "cell_type": "code",
      "metadata": {
        "colab": {
          "base_uri": "https://localhost:8080/"
        },
        "id": "wE9pM5G1xPa4",
        "outputId": "6c2f87be-54b4-4452-c297-cb7978b91d87"
      },
      "source": [
        "from google.colab import drive\n",
        "drive.mount('/content/drive', force_remount=True)"
      ],
      "execution_count": 2,
      "outputs": [
        {
          "output_type": "stream",
          "name": "stdout",
          "text": [
            "Mounted at /content/drive\n"
          ]
        }
      ]
    },
    {
      "cell_type": "code",
      "metadata": {
        "id": "c19WhUMYxE4X"
      },
      "source": [
        "import pandas as pd\n",
        "import numpy as np\n",
        "import matplotlib.pyplot as plt\n",
        "import keras\n",
        "\n",
        "df=pd.read_csv(\"/content/drive/MyDrive/Colab Notebooks/deep learning/lab5/kindle_reviews_dataset.csv\",index_col=0)\n",
        "df=df.dropna(subset=[\"overall\",\"reviewText\"]).reset_index(drop=True)"
      ],
      "execution_count": 3,
      "outputs": []
    },
    {
      "cell_type": "markdown",
      "metadata": {
        "id": "LrJ3hGPmCgtj"
      },
      "source": [
        "For this assignment, let's only look at books with more than 250 reviews"
      ]
    },
    {
      "cell_type": "code",
      "metadata": {
        "id": "6ksze3SyCLP_"
      },
      "source": [
        "df=df[df[\"asin\"].isin(df[\"asin\"].value_counts()[df[\"asin\"].value_counts()>250].index)].loc[:,[\"overall\",\"reviewText\"]]"
      ],
      "execution_count": 4,
      "outputs": []
    },
    {
      "cell_type": "markdown",
      "metadata": {
        "id": "62Bbk0rCEruk"
      },
      "source": [
        "This leaves us with 18040 lines of review"
      ]
    },
    {
      "cell_type": "code",
      "metadata": {
        "colab": {
          "base_uri": "https://localhost:8080/"
        },
        "id": "Ur5Z4ujrEpCr",
        "outputId": "d1a4e97e-653f-4e31-f23b-3e1debbdbef6"
      },
      "source": [
        "len(df)"
      ],
      "execution_count": 5,
      "outputs": [
        {
          "output_type": "execute_result",
          "data": {
            "text/plain": [
              "18040"
            ]
          },
          "metadata": {},
          "execution_count": 5
        }
      ]
    },
    {
      "cell_type": "markdown",
      "metadata": {
        "id": "W6OdsR1_E2oj"
      },
      "source": [
        "As mentioned in group assignemnt, we could find out that the target value distribution is highly uneven. Therefore, we should use stratified sampling.  "
      ]
    },
    {
      "cell_type": "code",
      "metadata": {
        "colab": {
          "base_uri": "https://localhost:8080/"
        },
        "id": "YY59i0RYEzWd",
        "outputId": "5cf77faf-9727-4b8a-c3a6-3af101aeaf20"
      },
      "source": [
        "df[\"overall\"].value_counts()"
      ],
      "execution_count": 6,
      "outputs": [
        {
          "output_type": "execute_result",
          "data": {
            "text/plain": [
              "5    11116\n",
              "4     4176\n",
              "3     1671\n",
              "2      605\n",
              "1      472\n",
              "Name: overall, dtype: int64"
            ]
          },
          "metadata": {},
          "execution_count": 6
        }
      ]
    },
    {
      "cell_type": "markdown",
      "metadata": {
        "id": "_XeGUDRUVm3d"
      },
      "source": [
        "Build a train dataset for model training and validation dataset for model assessment.  \n",
        "90% of the data should be used to build the training subset, while 10% of the data should be used to build the validation subset.  \n",
        "You should use review text as the predictor and overall rating as the outcome.  "
      ]
    },
    {
      "cell_type": "markdown",
      "metadata": {
        "id": "1IEnVoWSmMbP"
      },
      "source": [
        "#**Question 1:**Please try to change your test size 0.1, 0.2, 0.3 for getting lower mape errors for training and validation results, and explain what you have after changing these parameters. (just leave one optimal result)\n",
        "\n",
        "Think about this: what could be the possible problem if the test size is extremely large or small?)"
      ]
    },
    {
      "cell_type": "code",
      "metadata": {
        "id": "QBMInTbLl-wD"
      },
      "source": [
        "from sklearn.model_selection import train_test_split\n",
        "rev=df[\"reviewText\"]\n",
        "target=df[\"overall\"]\n",
        "x_train, x_test, y_train, y_test = train_test_split(rev,target,test_size=0.1,random_state=0,stratify=target)"
      ],
      "execution_count": 7,
      "outputs": []
    },
    {
      "cell_type": "markdown",
      "metadata": {
        "id": "xnVDWgNCmIfP"
      },
      "source": [
        "**Answer:**  \n",
        "###<font color = blue>We can find that based on our code, test_size = 0.1 has the lowest mape error."
      ]
    },
    {
      "cell_type": "markdown",
      "metadata": {
        "id": "N2o3Q8lcK9GV"
      },
      "source": [
        "# **Question 2:** For preparing your word embeding vectors, please try to change maxlen as 100, 150, and 200 for getting better mape errors for training and validation results, and explain what you have after changing these parameters.(just leave one optimal result)\n",
        "\n",
        "Think about this: How would you decide the value of maxlen in real life cases?"
      ]
    },
    {
      "cell_type": "code",
      "metadata": {
        "colab": {
          "base_uri": "https://localhost:8080/"
        },
        "id": "UCspouvA_lLX",
        "outputId": "be2d78ab-413a-45f8-a0c6-ee677f7629b4"
      },
      "source": [
        "from keras.utils import pad_sequences\n",
        "from keras.preprocessing.text import Tokenizer\n",
        "\n",
        "# Number of words to consider as features\n",
        "max_features = 10000\n",
        "# Cut texts after this number of words \n",
        "# (among top max_features most common words)\n",
        "maxlen = 200\n",
        "batch_size = 128\n",
        "\n",
        "tokenizer=Tokenizer(max_features,oov_token=\"<?>\")\n",
        "tokenizer.fit_on_texts(x_train)\n",
        "X_train=tokenizer.texts_to_sequences(x_train)\n",
        "X_test=tokenizer.texts_to_sequences(x_test)\n",
        "\n",
        "print(len(X_train), 'train sequences')\n",
        "print(len(X_test), 'test sequences')\n",
        "\n",
        "print('Pad sequences (samples x text length)')\n",
        "X_train = pad_sequences(X_train, maxlen=maxlen) \n",
        "X_test = pad_sequences(X_test, maxlen=maxlen)\n",
        "print('X_train shape:', X_train.shape)\n",
        "print('X_test shape:', X_test.shape)\n",
        "\n",
        "\n"
      ],
      "execution_count": 9,
      "outputs": [
        {
          "output_type": "stream",
          "name": "stdout",
          "text": [
            "16236 train sequences\n",
            "1804 test sequences\n",
            "Pad sequences (samples x text length)\n",
            "X_train shape: (16236, 200)\n",
            "X_test shape: (1804, 200)\n"
          ]
        }
      ]
    },
    {
      "cell_type": "markdown",
      "metadata": {
        "id": "4O90GvqELDUr"
      },
      "source": [
        "# **Question 3:** Please use SimpleRNN, LSTM, droupout, recurrent_dropout, and change other parameters for getting better mape results, and explain what you have after changing these parameters. (Please try at least 5 different combinations of parameters to answer this question, as fine tuning is a significant task in real life senarios)\n",
        "### Tips: we want 1 embedding layer and 2 lstm layer; Use dropout and recurrent_dropout in the first lstm layer. Change other hyperparameters to have a better result.\n",
        "\n",
        "Recall: what does each of this mean: SimpleRNN, LSTM, dropout, recurrent_dropout ? Feel free to refer to the course materials any time you get confused with one of the concepts. "
      ]
    },
    {
      "cell_type": "code",
      "source": [
        "from keras.models import Sequential\n",
        "from keras import layers\n",
        "from keras.layers import Embedding, LSTM, SimpleRNN\n",
        "from keras.layers import Dense\n",
        "from keras.layers import Dropout\n",
        "\n",
        "\n",
        "model = Sequential()\n",
        "model.add(Embedding(max_features, 64, input_length=maxlen))\n",
        "model.add(layers.LSTM(64,dropout=0.2,recurrent_dropout=0.2, return_sequences=True))\n",
        "model.add(layers.LSTM(64))\n",
        "model.add(Dense(1))\n",
        "\n",
        "\n",
        "model.compile(optimizer='adam', loss='mae', metrics='mape')\n",
        "history = model.fit(X_train, y_train, epochs=20, batch_size=batch_size, validation_data=(X_test,y_test))\n",
        "keras.backend.clear_session()\n",
        "del model"
      ],
      "metadata": {
        "id": "Fh9Qcwu5migf",
        "colab": {
          "base_uri": "https://localhost:8080/"
        },
        "outputId": "ef987e2b-10ac-492c-cdc2-9a3d3a411d40"
      },
      "execution_count": 14,
      "outputs": [
        {
          "output_type": "stream",
          "name": "stdout",
          "text": [
            "Epoch 1/20\n",
            "127/127 [==============================] - 163s 1s/step - loss: 0.9634 - mape: 33.4781 - val_loss: 0.6232 - val_mape: 27.3514\n",
            "Epoch 2/20\n",
            "127/127 [==============================] - 163s 1s/step - loss: 0.6262 - mape: 27.4544 - val_loss: 0.6228 - val_mape: 27.3157\n",
            "Epoch 3/20\n",
            "127/127 [==============================] - 157s 1s/step - loss: 0.6229 - mape: 27.3348 - val_loss: 0.6208 - val_mape: 27.1952\n",
            "Epoch 4/20\n",
            "127/127 [==============================] - 170s 1s/step - loss: 0.6070 - mape: 26.2729 - val_loss: 0.5374 - val_mape: 22.0314\n",
            "Epoch 5/20\n",
            "127/127 [==============================] - 151s 1s/step - loss: 0.4828 - mape: 19.0330 - val_loss: 0.4946 - val_mape: 19.6410\n",
            "Epoch 6/20\n",
            "127/127 [==============================] - 148s 1s/step - loss: 0.4135 - mape: 16.1622 - val_loss: 0.4649 - val_mape: 18.1006\n",
            "Epoch 7/20\n",
            "127/127 [==============================] - 145s 1s/step - loss: 0.3775 - mape: 14.6170 - val_loss: 0.4700 - val_mape: 17.5280\n",
            "Epoch 8/20\n",
            "127/127 [==============================] - 143s 1s/step - loss: 0.3466 - mape: 13.0533 - val_loss: 0.4747 - val_mape: 16.6235\n",
            "Epoch 9/20\n",
            "127/127 [==============================] - 144s 1s/step - loss: 0.3207 - mape: 11.8776 - val_loss: 0.4582 - val_mape: 17.3813\n",
            "Epoch 10/20\n",
            "127/127 [==============================] - 145s 1s/step - loss: 0.2961 - mape: 10.9066 - val_loss: 0.4524 - val_mape: 16.4088\n",
            "Epoch 11/20\n",
            "127/127 [==============================] - 145s 1s/step - loss: 0.2814 - mape: 10.1619 - val_loss: 0.4578 - val_mape: 16.2755\n",
            "Epoch 12/20\n",
            "127/127 [==============================] - 146s 1s/step - loss: 0.2658 - mape: 9.4132 - val_loss: 0.4767 - val_mape: 16.7451\n",
            "Epoch 13/20\n",
            "127/127 [==============================] - 146s 1s/step - loss: 0.2508 - mape: 8.8873 - val_loss: 0.4591 - val_mape: 16.4893\n",
            "Epoch 14/20\n",
            "127/127 [==============================] - 146s 1s/step - loss: 0.2424 - mape: 8.4851 - val_loss: 0.4740 - val_mape: 16.6222\n",
            "Epoch 15/20\n",
            "127/127 [==============================] - 146s 1s/step - loss: 0.2349 - mape: 8.1107 - val_loss: 0.4817 - val_mape: 16.2250\n",
            "Epoch 16/20\n",
            "127/127 [==============================] - 144s 1s/step - loss: 0.2232 - mape: 7.7393 - val_loss: 0.4511 - val_mape: 16.3330\n",
            "Epoch 17/20\n",
            "127/127 [==============================] - 148s 1s/step - loss: 0.2084 - mape: 7.1609 - val_loss: 0.4810 - val_mape: 16.0739\n",
            "Epoch 18/20\n",
            "127/127 [==============================] - 144s 1s/step - loss: 0.2077 - mape: 7.0252 - val_loss: 0.4810 - val_mape: 16.1970\n",
            "Epoch 19/20\n",
            "127/127 [==============================] - 142s 1s/step - loss: 0.1993 - mape: 6.7386 - val_loss: 0.4586 - val_mape: 16.2421\n",
            "Epoch 20/20\n",
            "127/127 [==============================] - 146s 1s/step - loss: 0.2015 - mape: 6.8230 - val_loss: 0.4577 - val_mape: 16.0349\n"
          ]
        }
      ]
    },
    {
      "cell_type": "code",
      "source": [
        "loss = history.history['loss']\n",
        "val_loss = history.history['val_loss']\n",
        "\n",
        "epochs = range(len(loss))\n",
        "\n",
        "plt.plot(epochs, loss, 'bo', label='Training loss')\n",
        "plt.plot(epochs, val_loss, 'b', label='Validation loss')\n",
        "plt.title('Training and validation loss')\n",
        "plt.legend()\n",
        "\n",
        "plt.show()"
      ],
      "metadata": {
        "id": "FfzJYI20mm08",
        "colab": {
          "base_uri": "https://localhost:8080/",
          "height": 452
        },
        "outputId": "c0cd8a23-2689-414c-885a-efe5e6394c57"
      },
      "execution_count": 15,
      "outputs": [
        {
          "output_type": "display_data",
          "data": {
            "text/plain": [
              "<Figure size 640x480 with 1 Axes>"
            ],
            "image/png": "[encoded data removed]"
          },
          "metadata": {}
        }
      ]
    },
    {
      "cell_type": "markdown",
      "metadata": {
        "id": "fzAEugM7bAGr"
      },
      "source": [
        "# **Question 4:** Predict the rating using a model that has both Conv1D layer and LSTM layer. \n",
        "### Tips: You can use your model in Question 3 and add covolution layer between embedding and lstm.\n",
        "Recall what does each parameter in Conv1D and LSTM represent. Think about what case does each combination of parameters better fits when you are answering this question."
      ]
    },
    {
      "cell_type": "code",
      "source": [
        "from keras.models import Sequential\n",
        "from keras.layers import Embedding, LSTM, Conv1D, MaxPooling1D\n",
        "from keras.layers import Dense\n",
        "\n",
        "\n",
        "\n",
        "model = Sequential()\n",
        "model.add(Embedding(max_features, 128, input_length=maxlen))\n",
        "model.add(layers.Conv1D(64, 5, activation='relu'))\n",
        "model.add(layers.LSTM(64,dropout=0.2,recurrent_dropout=0.2,  return_sequences=True))\n",
        "model.add(layers.LSTM(64))\n",
        "model.add(layers.Dense(1))\n",
        "\n",
        "model.compile(optimizer='adam', loss='mae', metrics='mape')\n",
        "history = model.fit(X_train, y_train, epochs=15, batch_size=batch_size, validation_data=(X_test,y_test))\n",
        "keras.backend.clear_session()\n",
        "del model\n",
        "\n"
      ],
      "metadata": {
        "id": "-Q_BXXKemqmw",
        "colab": {
          "base_uri": "https://localhost:8080/"
        },
        "outputId": "d4419c48-7cee-4c70-8008-86e6482f88f7"
      },
      "execution_count": 17,
      "outputs": [
        {
          "output_type": "stream",
          "name": "stdout",
          "text": [
            "Epoch 1/15\n",
            "127/127 [==============================] - 177s 1s/step - loss: 0.9634 - mape: 33.4378 - val_loss: 0.6229 - val_mape: 27.3975\n",
            "Epoch 2/15\n",
            "127/127 [==============================] - 178s 1s/step - loss: 0.6246 - mape: 27.3454 - val_loss: 0.6205 - val_mape: 27.1696\n",
            "Epoch 3/15\n",
            "127/127 [==============================] - 173s 1s/step - loss: 0.5648 - mape: 23.7210 - val_loss: 0.5166 - val_mape: 20.1874\n",
            "Epoch 4/15\n",
            "127/127 [==============================] - 174s 1s/step - loss: 0.4522 - mape: 17.9666 - val_loss: 0.4972 - val_mape: 19.5795\n",
            "Epoch 5/15\n",
            "127/127 [==============================] - 177s 1s/step - loss: 0.4099 - mape: 16.1387 - val_loss: 0.4768 - val_mape: 17.6134\n",
            "Epoch 6/15\n",
            "127/127 [==============================] - 173s 1s/step - loss: 0.3782 - mape: 14.7058 - val_loss: 0.4775 - val_mape: 17.5747\n",
            "Epoch 7/15\n",
            "127/127 [==============================] - 174s 1s/step - loss: 0.3416 - mape: 12.9559 - val_loss: 0.4720 - val_mape: 18.4988\n",
            "Epoch 8/15\n",
            "127/127 [==============================] - 177s 1s/step - loss: 0.3159 - mape: 11.8917 - val_loss: 0.4631 - val_mape: 16.8372\n",
            "Epoch 9/15\n",
            "127/127 [==============================] - 172s 1s/step - loss: 0.2974 - mape: 10.9538 - val_loss: 0.4659 - val_mape: 17.0905\n",
            "Epoch 10/15\n",
            "127/127 [==============================] - 174s 1s/step - loss: 0.2716 - mape: 9.9605 - val_loss: 0.4619 - val_mape: 15.8854\n",
            "Epoch 11/15\n",
            "127/127 [==============================] - 172s 1s/step - loss: 0.2554 - mape: 9.1806 - val_loss: 0.4640 - val_mape: 16.0350\n",
            "Epoch 12/15\n",
            "127/127 [==============================] - 174s 1s/step - loss: 0.2439 - mape: 8.5480 - val_loss: 0.4720 - val_mape: 16.6494\n",
            "Epoch 13/15\n",
            "127/127 [==============================] - 177s 1s/step - loss: 0.2268 - mape: 7.9889 - val_loss: 0.4648 - val_mape: 15.8725\n",
            "Epoch 14/15\n",
            "127/127 [==============================] - 172s 1s/step - loss: 0.2172 - mape: 7.5104 - val_loss: 0.4674 - val_mape: 15.5576\n",
            "Epoch 15/15\n",
            "127/127 [==============================] - 174s 1s/step - loss: 0.2057 - mape: 7.0660 - val_loss: 0.4660 - val_mape: 16.1132\n"
          ]
        }
      ]
    },
    {
      "cell_type": "code",
      "source": [
        "loss = history.history['loss']\n",
        "val_loss = history.history['val_loss']\n",
        "\n",
        "epochs = range(len(loss))\n",
        "\n",
        "plt.plot(epochs, loss, 'bo', label='Training loss')\n",
        "plt.plot(epochs, val_loss, 'b', label='Validation loss')\n",
        "plt.title('Training and validation loss')\n",
        "plt.legend()\n",
        "\n",
        "plt.show()"
      ],
      "metadata": {
        "id": "326d3tUbmxAp",
        "colab": {
          "base_uri": "https://localhost:8080/",
          "height": 452
        },
        "outputId": "335d952d-a6be-42f6-da44-3711cb45790c"
      },
      "execution_count": 18,
      "outputs": [
        {
          "output_type": "display_data",
          "data": {
            "text/plain": [
              "<Figure size 640x480 with 1 Axes>"
            ],
            "image/png": "[encoded data removed]"
          },
          "metadata": {}
        }
      ]
    },
    {
      "cell_type": "markdown",
      "metadata": {
        "id": "7pICtAoJzi2H"
      },
      "source": [
        "**QUESTION:** Comment on the result and efficiency of this model by comparing it with the ones in question 2. (i.e. What's the problem of this model? What's good for the model? ) "
      ]
    },
    {
      "cell_type": "markdown",
      "metadata": {
        "id": "7PDLCKPAzyLO"
      },
      "source": [
        "**Answer:**  \n",
        "###<font color = blue> In case of maxlen, we find that when maxlen = 200 we can get the lowest mape error. <br> In case of model, we can find that it is not significantly different to have a Conv1D layer in the model, since the validation errors are similar."
      ]
    },
    {
      "cell_type": "markdown",
      "metadata": {
        "id": "3ODKPdwAuJFX"
      },
      "source": [
        "# **Question 5:** Predict the rating using a model that has dropout, recurrent dropout, embedding and bidirectional lstm.\n",
        "### Tips: you can use 2 bidirectional lstm layers."
      ]
    },
    {
      "cell_type": "code",
      "source": [
        "from keras.models import Sequential\n",
        "from keras.layers import Embedding, LSTM\n",
        "from keras.layers import Dense\n",
        "from keras.layers import Bidirectional\n",
        "\n",
        "model = Sequential()\n",
        "model.add(Embedding(max_features, 64, input_length=maxlen))\n",
        "model.add(layers.Bidirectional(layers.LSTM(64,dropout=0.5,recurrent_dropout=0.2, return_sequences=True)))\n",
        "model.add(layers.Bidirectional(layers.LSTM(64)))\n",
        "model.add(layers.Dense(1))\n",
        "\n",
        "\n",
        "model.compile(optimizer='adam', loss='mae', metrics='mape')\n",
        "history = model.fit(X_train, y_train, epochs=20, batch_size=batch_size, validation_data=(X_test,y_test))\n",
        "keras.backend.clear_session()\n",
        "del model\n"
      ],
      "metadata": {
        "id": "wpTQdtr1m6hT",
        "colab": {
          "base_uri": "https://localhost:8080/"
        },
        "outputId": "02dcae97-c905-4ebc-f4d8-3edbd2a9de6a"
      },
      "execution_count": 19,
      "outputs": [
        {
          "output_type": "stream",
          "name": "stdout",
          "text": [
            "Epoch 1/20\n",
            "127/127 [==============================] - 316s 2s/step - loss: 0.9376 - mape: 32.7329 - val_loss: 0.6255 - val_mape: 27.3446\n",
            "Epoch 2/20\n",
            "127/127 [==============================] - 293s 2s/step - loss: 0.5896 - mape: 24.7314 - val_loss: 0.5280 - val_mape: 20.3306\n",
            "Epoch 3/20\n",
            "127/127 [==============================] - 301s 2s/step - loss: 0.4520 - mape: 17.5683 - val_loss: 0.4917 - val_mape: 19.8511\n",
            "Epoch 4/20\n",
            "127/127 [==============================] - 299s 2s/step - loss: 0.4028 - mape: 15.6994 - val_loss: 0.4687 - val_mape: 17.5954\n",
            "Epoch 5/20\n",
            "127/127 [==============================] - 297s 2s/step - loss: 0.3733 - mape: 14.2546 - val_loss: 0.4730 - val_mape: 17.9886\n",
            "Epoch 6/20\n",
            "127/127 [==============================] - 297s 2s/step - loss: 0.3451 - mape: 12.9650 - val_loss: 0.4677 - val_mape: 16.7442\n",
            "Epoch 7/20\n",
            "127/127 [==============================] - 298s 2s/step - loss: 0.3286 - mape: 12.3234 - val_loss: 0.4893 - val_mape: 17.5742\n",
            "Epoch 8/20\n",
            "127/127 [==============================] - 297s 2s/step - loss: 0.3217 - mape: 11.9181 - val_loss: 0.4732 - val_mape: 17.3122\n",
            "Epoch 9/20\n",
            "127/127 [==============================] - 294s 2s/step - loss: 0.3019 - mape: 11.3157 - val_loss: 0.4743 - val_mape: 17.3551\n",
            "Epoch 10/20\n",
            "127/127 [==============================] - 300s 2s/step - loss: 0.2952 - mape: 10.9542 - val_loss: 0.4478 - val_mape: 16.6169\n",
            "Epoch 11/20\n",
            "127/127 [==============================] - 298s 2s/step - loss: 0.2807 - mape: 10.1362 - val_loss: 0.4623 - val_mape: 16.5677\n",
            "Epoch 12/20\n",
            "127/127 [==============================] - 297s 2s/step - loss: 0.2792 - mape: 9.8982 - val_loss: 0.4529 - val_mape: 16.1902\n",
            "Epoch 13/20\n",
            "127/127 [==============================] - 297s 2s/step - loss: 0.2739 - mape: 9.8128 - val_loss: 0.4505 - val_mape: 17.0987\n",
            "Epoch 14/20\n",
            "127/127 [==============================] - 299s 2s/step - loss: 0.2623 - mape: 9.2468 - val_loss: 0.4527 - val_mape: 15.9079\n",
            "Epoch 15/20\n",
            "127/127 [==============================] - 298s 2s/step - loss: 0.2767 - mape: 9.5076 - val_loss: 0.4531 - val_mape: 16.2749\n",
            "Epoch 16/20\n",
            "127/127 [==============================] - 298s 2s/step - loss: 0.2558 - mape: 8.9548 - val_loss: 0.4474 - val_mape: 15.9705\n",
            "Epoch 17/20\n",
            "127/127 [==============================] - 298s 2s/step - loss: 0.2580 - mape: 8.8329 - val_loss: 0.4606 - val_mape: 16.2053\n",
            "Epoch 18/20\n",
            "127/127 [==============================] - 293s 2s/step - loss: 0.2455 - mape: 8.5105 - val_loss: 0.4741 - val_mape: 16.3192\n",
            "Epoch 19/20\n",
            "127/127 [==============================] - 299s 2s/step - loss: 0.2731 - mape: 9.5304 - val_loss: 0.4590 - val_mape: 16.2480\n",
            "Epoch 20/20\n",
            "127/127 [==============================] - 298s 2s/step - loss: 0.2576 - mape: 8.9659 - val_loss: 0.4603 - val_mape: 15.6796\n"
          ]
        }
      ]
    },
    {
      "cell_type": "code",
      "source": [
        "loss = history.history['loss']\n",
        "val_loss = history.history['val_loss']\n",
        "\n",
        "epochs = range(len(loss))\n",
        "\n",
        "plt.plot(epochs, loss, 'bo', label='Training loss')\n",
        "plt.plot(epochs, val_loss, 'b', label='Validation loss')\n",
        "plt.title('Training and validation loss')\n",
        "plt.legend()\n",
        "\n",
        "plt.show()"
      ],
      "metadata": {
        "id": "BFyxIsmum88F",
        "colab": {
          "base_uri": "https://localhost:8080/",
          "height": 452
        },
        "outputId": "66969aa6-5215-40a7-a6b9-f5b1bb71898f"
      },
      "execution_count": 20,
      "outputs": [
        {
          "output_type": "display_data",
          "data": {
            "text/plain": [
              "<Figure size 640x480 with 1 Axes>"
            ],
            "image/png": "[encoded data removed]"
          },
          "metadata": {}
        }
      ]
    },
    {
      "cell_type": "markdown",
      "metadata": {
        "id": "tcTCwBCdhqA2"
      },
      "source": [
        "Please add comment on the result and efficiency of this model.(Can you think of possible ways to improve the model? What's your final choice of the model for the problem in this assignment?)<br>\n",
        "\n",
        "###<font color = blue> We can find that the model with bidirectional lstm, which processes the input sequence in two directions, forward and backward, using two separate hidden state vectors, does not significantly increase the model."
      ]
    },
    {
      "cell_type": "markdown",
      "source": [
        "Please let me know if you have any questions at salihtutun@wustl.edu. \n",
        "\n",
        "Salih Tutun, Ph.D."
      ],
      "metadata": {
        "id": "H_LJC4XwnGRG"
      }
    }
  ]
}